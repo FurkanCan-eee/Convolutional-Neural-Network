{
 "cells": [
  {
   "cell_type": "markdown",
   "id": "86a36054",
   "metadata": {},
   "source": [
    "## Packages"
   ]
  },
  {
   "cell_type": "code",
   "execution_count": 1,
   "id": "dac9133f",
   "metadata": {},
   "outputs": [],
   "source": [
    "import cv2\n",
    "import numpy as np"
   ]
  },
  {
   "cell_type": "markdown",
   "id": "7718ab72",
   "metadata": {},
   "source": [
    "## Loading YOLO"
   ]
  },
  {
   "cell_type": "code",
   "execution_count": 2,
   "id": "4003fa93",
   "metadata": {},
   "outputs": [],
   "source": [
    "yolo_model = cv2.dnn.readNet(\"yolov3.weights\", \"yolov3.cfg\")\n",
    "\n",
    "classes = []\n",
    "\n",
    "with open(\"coco_classes.txt\", \"r\") as f:\n",
    "    classes = [line.strip() for line in f.readlines()]\n",
    "\n",
    "layer_names = yolo_model.getLayerNames()\n",
    "output_layers = [layer_names[i[0] - 1] for i in yolo_model.getUnconnectedOutLayers()]\n",
    "\n",
    "colors = np.random.uniform(0, 255, size=len(classes))"
   ]
  },
  {
   "cell_type": "markdown",
   "id": "c1859a24",
   "metadata": {},
   "source": [
    "## Loading An Image"
   ]
  },
  {
   "cell_type": "code",
   "execution_count": 3,
   "id": "6d7c068d",
   "metadata": {},
   "outputs": [],
   "source": [
    "img = cv2.imread(\"images/0030.jpg\")\n",
    "height, width, channels = img.shape"
   ]
  },
  {
   "cell_type": "markdown",
   "id": "120ecc8b",
   "metadata": {},
   "source": [
    "## Detecting Objects"
   ]
  },
  {
   "cell_type": "code",
   "execution_count": 4,
   "id": "7a0e08e2",
   "metadata": {},
   "outputs": [],
   "source": [
    "blob = cv2.dnn.blobFromImage(img, 0.004, (416,416), (0,0,0), True, crop=False)\n",
    "yolo_model.setInput(blob)\n",
    "outs = yolo_model.forward(output_layers)"
   ]
  },
  {
   "cell_type": "markdown",
   "id": "3912b198",
   "metadata": {},
   "source": [
    "## Finding Bounding Boxes Coordinates"
   ]
  },
  {
   "cell_type": "code",
   "execution_count": 5,
   "id": "d856bd46",
   "metadata": {},
   "outputs": [],
   "source": [
    "boxes = []\n",
    "confidences = []\n",
    "class_ids = []\n",
    "\n",
    "for out in outs:\n",
    "    for detection in out:\n",
    "        scores = detection[5:]\n",
    "        class_id = np.argmax(scores)\n",
    "        confidence = scores[class_id]\n",
    "        \n",
    "        if confidence > 0.5:  # object dedected\n",
    "            center_x = int(detection[0]*width)\n",
    "            center_y = int(detection[1]*height)\n",
    "            w = int(detection[2]*width)\n",
    "            h = int(detection[3]*height)\n",
    "\n",
    "            # Rectangle Coordinates\n",
    "\n",
    "            x_top_left = int(center_x - w/2)\n",
    "            y_top_left = int(center_y - h/2)\n",
    "\n",
    "            boxes.append([x_top_left, y_top_left, w, h])\n",
    "            confidences.append(float(confidence))\n",
    "            class_ids.append(class_id)"
   ]
  },
  {
   "cell_type": "markdown",
   "id": "593d447e",
   "metadata": {},
   "source": [
    "## Non-max Suppression"
   ]
  },
  {
   "cell_type": "code",
   "execution_count": 6,
   "id": "faa1be3c",
   "metadata": {},
   "outputs": [],
   "source": [
    "indexes = cv2.dnn.NMSBoxes(boxes, confidences, 0.5, 0.4)\n",
    "number_of_objects_detected = len(boxes)\n",
    "font = cv2.FONT_HERSHEY_COMPLEX\n",
    "for i in range(number_of_objects_detected):\n",
    "    if i in indexes:\n",
    "        x, y, w, h = boxes[i]\n",
    "        label = str(classes[class_ids[i]])\n",
    "        color = colors[i]\n",
    "        cv2.rectangle(img, (x, y), (x+w, y+h), color, 3)\n",
    "        cv2.putText(img, label, (x, y-5), font, 0.7, color, 2)"
   ]
  },
  {
   "cell_type": "code",
   "execution_count": 8,
   "id": "0259bedf",
   "metadata": {},
   "outputs": [],
   "source": [
    "cv2.imshow(\"image\", img)\n",
    "cv2.waitKey(0)\n",
    "cv2.destroyAllWindows()"
   ]
  },
  {
   "cell_type": "code",
   "execution_count": null,
   "id": "5ddeb2fb",
   "metadata": {},
   "outputs": [],
   "source": []
  }
 ],
 "metadata": {
  "kernelspec": {
   "display_name": "Python 3 (ipykernel)",
   "language": "python",
   "name": "python3"
  },
  "language_info": {
   "codemirror_mode": {
    "name": "ipython",
    "version": 3
   },
   "file_extension": ".py",
   "mimetype": "text/x-python",
   "name": "python",
   "nbconvert_exporter": "python",
   "pygments_lexer": "ipython3",
   "version": "3.8.8"
  }
 },
 "nbformat": 4,
 "nbformat_minor": 5
}
