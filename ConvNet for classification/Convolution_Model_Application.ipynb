{
 "cells": [
  {
   "cell_type": "markdown",
   "id": "575983ad",
   "metadata": {},
   "source": [
    "### Packages"
   ]
  },
  {
   "cell_type": "code",
   "execution_count": 9,
   "id": "0921c9ad",
   "metadata": {},
   "outputs": [],
   "source": [
    "import math\n",
    "import numpy as np\n",
    "import h5py\n",
    "import matplotlib.pyplot as plt\n",
    "from matplotlib.pyplot import imread\n",
    "import scipy\n",
    "from PIL import Image\n",
    "import pandas as pd\n",
    "import tensorflow as tf\n",
    "import tensorflow.keras.layers as tfl\n",
    "from tensorflow.python.framework import ops\n",
    "from cnn_utils import *\n",
    "from test_utils import summary, comparator\n",
    "\n",
    "%matplotlib inline\n",
    "np.random.seed(1)"
   ]
  },
  {
   "cell_type": "markdown",
   "id": "d8ae5475",
   "metadata": {},
   "source": [
    "### Loading The Dataset and Splitting The Data Into Train/Test Sets"
   ]
  },
  {
   "cell_type": "code",
   "execution_count": 22,
   "id": "6b4009c7",
   "metadata": {},
   "outputs": [
    {
     "name": "stdout",
     "output_type": "stream",
     "text": [
      "number of training examples = 600\n",
      "number of test examples = 150\n",
      "X_train shape: (600, 64, 64, 3)\n",
      "Y_train shape: (600, 1)\n",
      "X_test shape: (150, 64, 64, 3)\n",
      "Y_test shape: (150, 1)\n"
     ]
    }
   ],
   "source": [
    "X_train_orig, Y_train_orig, X_test_orig, Y_test_orig, classes = load_happy_dataset()\n",
    "\n",
    "# Normalize image vectors\n",
    "X_train = X_train_orig/255.\n",
    "X_test = X_test_orig/255.\n",
    "\n",
    "# Reshape\n",
    "Y_train = Y_train_orig.T\n",
    "Y_test = Y_test_orig.T\n",
    "\n",
    "print (\"number of training examples = \" + str(X_train.shape[0]))\n",
    "print (\"number of test examples = \" + str(X_test.shape[0]))\n",
    "print (\"X_train shape: \" + str(X_train.shape))\n",
    "print (\"Y_train shape: \" + str(Y_train.shape))\n",
    "print (\"X_test shape: \" + str(X_test.shape))\n",
    "print (\"Y_test shape: \" + str(Y_test.shape))"
   ]
  },
  {
   "cell_type": "markdown",
   "id": "6ac97764",
   "metadata": {},
   "source": [
    "You can display the images contained in the dataset. Images are 64x64 pixels in RGB format (3 channels)."
   ]
  },
  {
   "cell_type": "code",
   "execution_count": 11,
   "id": "77c15738",
   "metadata": {
    "scrolled": true
   },
   "outputs": [
    {
     "data": {
      "image/png": "[encoded data removed]",
      "text/plain": [
       "<Figure size 432x288 with 1 Axes>"
      ]
     },
     "metadata": {
      "needs_background": "light"
     },
     "output_type": "display_data"
    }
   ],
   "source": [
    "index = 124\n",
    "plt.imshow(X_train_orig[index]) #display sample training image\n",
    "plt.show()"
   ]
  },
  {
   "cell_type": "markdown",
   "id": "cfc087d1",
   "metadata": {},
   "source": [
    "## A Sequential API"
   ]
  },
  {
   "cell_type": "markdown",
   "id": "dbedba47",
   "metadata": {},
   "source": [
    "### Happy Model"
   ]
  },
  {
   "cell_type": "code",
   "execution_count": 12,
   "id": "131771f7",
   "metadata": {},
   "outputs": [],
   "source": [
    "def happyModel():\n",
    "    \"\"\"\n",
    "    Implements the forward propagation for the binary classification model:\n",
    "    ZEROPAD2D -> CONV2D -> BATCHNORM -> RELU -> MAXPOOL -> FLATTEN -> DENSE\n",
    "    \n",
    "    Note that for simplicity and grading purposes, you'll hard-code all the values\n",
    "    such as the stride and kernel (filter) sizes. \n",
    "    Normally, functions should take these values as function parameters.\n",
    "    \n",
    "    Arguments:\n",
    "    None\n",
    "\n",
    "    Returns:\n",
    "    model -- TF Keras model (object containing the information for the entire training process) \n",
    "    \"\"\"\n",
    "    model = tf.keras.Sequential([\n",
    "            tf.keras.Input(shape=(64 , 64 ,3)),\n",
    "            ## ZeroPadding2D with padding 3, input shape of 64 x 64 x 3\n",
    "            tfl.ZeroPadding2D(padding=3), # As import tensorflow.keras.layers as tfl\n",
    "            ## Conv2D with 32 7x7 filters and stride of 1\n",
    "            tfl.Conv2D(filters=32,kernel_size=7,strides=1),\n",
    "            ## BatchNormalization for axis 3\n",
    "            tfl.BatchNormalization(axis=3, momentum=0.99, epsilon=0.001),\n",
    "            ## ReLU\n",
    "            tfl.ReLU(),\n",
    "            ## Max Pooling 2D with default parameters\n",
    "            tfl.MaxPool2D(),\n",
    "            ## Flatten layer\n",
    "            tfl.Flatten(),\n",
    "            ## Dense layer with 1 unit for output & 'sigmoid' activation\n",
    "            tfl.Dense(1,activation='sigmoid')\n",
    "        ])\n",
    "    \n",
    "    return model"
   ]
  },
  {
   "cell_type": "code",
   "execution_count": 13,
   "id": "4206b483",
   "metadata": {},
   "outputs": [
    {
     "name": "stdout",
     "output_type": "stream",
     "text": [
      "['ZeroPadding2D', (None, 70, 70, 3), 0, ((3, 3), (3, 3))]\n",
      "['Conv2D', (None, 64, 64, 32), 4736, 'valid', 'linear', 'GlorotUniform']\n",
      "['BatchNormalization', (None, 64, 64, 32), 128]\n",
      "['ReLU', (None, 64, 64, 32), 0]\n",
      "['MaxPooling2D', (None, 32, 32, 32), 0, (2, 2), (2, 2), 'valid']\n",
      "['Flatten', (None, 32768), 0]\n",
      "['Dense', (None, 1), 32769, 'sigmoid']\n"
     ]
    }
   ],
   "source": [
    "happy_model = happyModel()\n",
    "# Print a summary for each layer\n",
    "for layer in summary(happy_model):\n",
    "    print(layer)"
   ]
  },
  {
   "cell_type": "code",
   "execution_count": 14,
   "id": "ef5ef519",
   "metadata": {},
   "outputs": [],
   "source": [
    "happy_model.compile(optimizer='adam',\n",
    "                   loss='binary_crossentropy',\n",
    "                   metrics=['accuracy'])"
   ]
  },
  {
   "cell_type": "code",
   "execution_count": 15,
   "id": "ec1bb6e4",
   "metadata": {},
   "outputs": [
    {
     "name": "stdout",
     "output_type": "stream",
     "text": [
      "Model: \"sequential_1\"\n",
      "_________________________________________________________________\n",
      "Layer (type)                 Output Shape              Param #   \n",
      "=================================================================\n",
      "zero_padding2d_1 (ZeroPaddin (None, 70, 70, 3)         0         \n",
      "_________________________________________________________________\n",
      "conv2d_1 (Conv2D)            (None, 64, 64, 32)        4736      \n",
      "_________________________________________________________________\n",
      "batch_normalization_1 (Batch (None, 64, 64, 32)        128       \n",
      "_________________________________________________________________\n",
      "re_lu_1 (ReLU)               (None, 64, 64, 32)        0         \n",
      "_________________________________________________________________\n",
      "max_pooling2d_1 (MaxPooling2 (None, 32, 32, 32)        0         \n",
      "_________________________________________________________________\n",
      "flatten_1 (Flatten)          (None, 32768)             0         \n",
      "_________________________________________________________________\n",
      "dense_1 (Dense)              (None, 1)                 32769     \n",
      "=================================================================\n",
      "Total params: 37,633\n",
      "Trainable params: 37,569\n",
      "Non-trainable params: 64\n",
      "_________________________________________________________________\n"
     ]
    }
   ],
   "source": [
    "happy_model.summary()"
   ]
  },
  {
   "cell_type": "code",
   "execution_count": 16,
   "id": "c27b8769",
   "metadata": {},
   "outputs": [
    {
     "name": "stdout",
     "output_type": "stream",
     "text": [
      "Epoch 1/10\n",
      "38/38 [==============================] - 11s 56ms/step - loss: 0.9715 - accuracy: 0.7367\n",
      "Epoch 2/10\n",
      "38/38 [==============================] - 0s 7ms/step - loss: 0.1921 - accuracy: 0.9300\n",
      "Epoch 3/10\n",
      "38/38 [==============================] - 0s 6ms/step - loss: 0.3006 - accuracy: 0.8950\n",
      "Epoch 4/10\n",
      "38/38 [==============================] - 0s 6ms/step - loss: 0.1663 - accuracy: 0.9433: 0s - loss: 0.2259 - accuracy: \n",
      "Epoch 5/10\n",
      "38/38 [==============================] - 0s 6ms/step - loss: 0.0825 - accuracy: 0.9667\n",
      "Epoch 6/10\n",
      "38/38 [==============================] - 0s 6ms/step - loss: 0.0704 - accuracy: 0.9733\n",
      "Epoch 7/10\n",
      "38/38 [==============================] - 0s 7ms/step - loss: 0.0737 - accuracy: 0.9767 ETA: 0s - loss: 0.0598 - accuracy: 0.9861   - ETA: 0s - loss: 0.0550 - accuracy: \n",
      "Epoch 8/10\n",
      "38/38 [==============================] - 0s 6ms/step - loss: 0.0827 - accuracy: 0.9733\n",
      "Epoch 9/10\n",
      "38/38 [==============================] - 0s 6ms/step - loss: 0.0672 - accuracy: 0.9733\n",
      "Epoch 10/10\n",
      "38/38 [==============================] - 0s 6ms/step - loss: 0.0755 - accuracy: 0.9767\n"
     ]
    },
    {
     "data": {
      "text/plain": [
       "<keras.callbacks.History at 0x1d002b2cb50>"
      ]
     },
     "execution_count": 16,
     "metadata": {},
     "output_type": "execute_result"
    }
   ],
   "source": [
    "happy_model.fit(X_train, Y_train, epochs=10, batch_size=16)"
   ]
  },
  {
   "cell_type": "code",
   "execution_count": 17,
   "id": "a4d50b2e",
   "metadata": {},
   "outputs": [
    {
     "name": "stdout",
     "output_type": "stream",
     "text": [
      "5/5 [==============================] - 0s 15ms/step - loss: 0.2146 - accuracy: 0.9333\n"
     ]
    },
    {
     "data": {
      "text/plain": [
       "[0.21463808417320251, 0.9333333373069763]"
      ]
     },
     "execution_count": 17,
     "metadata": {},
     "output_type": "execute_result"
    }
   ],
   "source": [
    "happy_model.evaluate(X_test, Y_test)"
   ]
  },
  {
   "cell_type": "markdown",
   "id": "1517e187",
   "metadata": {},
   "source": [
    "## A Functional API"
   ]
  },
  {
   "cell_type": "markdown",
   "id": "c4901b53",
   "metadata": {},
   "source": [
    "### Loading The SIGNS Dataset"
   ]
  },
  {
   "cell_type": "code",
   "execution_count": 18,
   "id": "e220b528",
   "metadata": {},
   "outputs": [],
   "source": [
    "# Loading the data (signs)\n",
    "X_train_orig, Y_train_orig, X_test_orig, Y_test_orig, classes = load_signs_dataset()"
   ]
  },
  {
   "cell_type": "code",
   "execution_count": 20,
   "id": "1f89e515",
   "metadata": {
    "scrolled": true
   },
   "outputs": [
    {
     "name": "stdout",
     "output_type": "stream",
     "text": [
      "y = 4\n"
     ]
    },
    {
     "data": {
      "image/png": "[encoded data removed]",
      "text/plain": [
       "<Figure size 432x288 with 1 Axes>"
      ]
     },
     "metadata": {
      "needs_background": "light"
     },
     "output_type": "display_data"
    }
   ],
   "source": [
    "# Example of an image from the dataset\n",
    "index = 5\n",
    "plt.imshow(X_train_orig[index])\n",
    "print (\"y = \" + str(np.squeeze(Y_train_orig[:, index])))"
   ]
  },
  {
   "cell_type": "markdown",
   "id": "158b08b2",
   "metadata": {},
   "source": [
    "Examine the shapes of the data."
   ]
  },
  {
   "cell_type": "code",
   "execution_count": 26,
   "id": "8cfb3d79",
   "metadata": {},
   "outputs": [
    {
     "name": "stdout",
     "output_type": "stream",
     "text": [
      "number of training examples = 600\n",
      "number of test examples = 150\n",
      "X_train shape: (600, 64, 64, 3)\n",
      "Y_train shape: (600, 6)\n",
      "X_test shape: (150, 64, 64, 3)\n",
      "Y_test shape: (150, 6)\n"
     ]
    }
   ],
   "source": [
    "X_train = X_train_orig/255.\n",
    "X_test = X_test_orig/255.\n",
    "Y_train = convert_to_one_hot(Y_train_orig, 6).T\n",
    "Y_test = convert_to_one_hot(Y_test_orig, 6).T\n",
    "print (\"number of training examples = \" + str(X_train.shape[0]))\n",
    "print (\"number of test examples = \" + str(X_test.shape[0]))\n",
    "print (\"X_train shape: \" + str(X_train.shape))\n",
    "print (\"Y_train shape: \" + str(Y_train.shape))\n",
    "print (\"X_test shape: \" + str(X_test.shape))\n",
    "print (\"Y_test shape: \" + str(Y_test.shape))"
   ]
  },
  {
   "cell_type": "markdown",
   "id": "3dfbdf74",
   "metadata": {},
   "source": [
    "### Convolution Model"
   ]
  },
  {
   "cell_type": "code",
   "execution_count": 28,
   "id": "14218927",
   "metadata": {},
   "outputs": [],
   "source": [
    "def convolutional_model(input_shape):\n",
    "    \"\"\"\n",
    "    Implements the forward propagation for the model:\n",
    "    CONV2D -> RELU -> MAXPOOL -> CONV2D -> RELU -> MAXPOOL -> FLATTEN -> DENSE\n",
    "    \n",
    "    Note that for simplicity and grading purposes, you'll hard-code some values\n",
    "    such as the stride and kernel (filter) sizes. \n",
    "    Normally, functions should take these values as function parameters.\n",
    "    \n",
    "    Arguments:\n",
    "    input_img -- input dataset, of shape (input_shape)\n",
    "\n",
    "    Returns:\n",
    "    model -- TF Keras model (object containing the information for the entire training process) \n",
    "    \"\"\"\n",
    "\n",
    "    input_img = tf.keras.Input(shape=input_shape)\n",
    "    ## CONV2D: 8 filters 4x4, stride of 1, padding 'SAME'\n",
    "    Z1 = tfl.Conv2D(filters= 8. , kernel_size=4 , padding='same',strides=1)(input_img)\n",
    "    ## RELU\n",
    "    A1 = tfl.ReLU()(Z1)\n",
    "    ## MAXPOOL: window 8x8, stride 8, padding 'SAME'\n",
    "    P1 = tfl.MaxPool2D(pool_size=8, strides=8, padding='SAME')(A1)\n",
    "    ## CONV2D: 16 filters 2x2, stride 1, padding 'SAME'\n",
    "    Z2 = tfl.Conv2D(filters= 16. , kernel_size=2 , padding='same',strides=1)(P1)\n",
    "    ## RELU\n",
    "    A2 =  tfl.ReLU()(Z2)\n",
    "    ## MAXPOOL: window 4x4, stride 4, padding 'SAME'\n",
    "    P2 = tfl.MaxPool2D(pool_size=4, strides=4, padding='SAME')(A2)\n",
    "    ## FLATTEN\n",
    "    F = tfl.Flatten()(P2)\n",
    "    ## Dense layer\n",
    "    ## 6 neurons in output layer. Hint: one of the arguments should be \"activation='softmax'\" \n",
    "    outputs = tfl.Dense(units= 6 , activation='softmax')(F)\n",
    "    model = tf.keras.Model(inputs=input_img, outputs=outputs)\n",
    "    return model"
   ]
  },
  {
   "cell_type": "code",
   "execution_count": 29,
   "id": "a25e1b66",
   "metadata": {},
   "outputs": [
    {
     "name": "stdout",
     "output_type": "stream",
     "text": [
      "Model: \"model_1\"\n",
      "_________________________________________________________________\n",
      "Layer (type)                 Output Shape              Param #   \n",
      "=================================================================\n",
      "input_4 (InputLayer)         [(None, 64, 64, 3)]       0         \n",
      "_________________________________________________________________\n",
      "conv2d_4 (Conv2D)            (None, 64, 64, 8)         392       \n",
      "_________________________________________________________________\n",
      "re_lu_4 (ReLU)               (None, 64, 64, 8)         0         \n",
      "_________________________________________________________________\n",
      "max_pooling2d_4 (MaxPooling2 (None, 8, 8, 8)           0         \n",
      "_________________________________________________________________\n",
      "conv2d_5 (Conv2D)            (None, 8, 8, 16)          528       \n",
      "_________________________________________________________________\n",
      "re_lu_5 (ReLU)               (None, 8, 8, 16)          0         \n",
      "_________________________________________________________________\n",
      "max_pooling2d_5 (MaxPooling2 (None, 2, 2, 16)          0         \n",
      "_________________________________________________________________\n",
      "flatten_3 (Flatten)          (None, 64)                0         \n",
      "_________________________________________________________________\n",
      "dense_3 (Dense)              (None, 6)                 390       \n",
      "=================================================================\n",
      "Total params: 1,310\n",
      "Trainable params: 1,310\n",
      "Non-trainable params: 0\n",
      "_________________________________________________________________\n"
     ]
    }
   ],
   "source": [
    "conv_model = convolutional_model((64, 64, 3))\n",
    "conv_model.compile(optimizer='adam',\n",
    "                  loss='categorical_crossentropy',\n",
    "                  metrics=['accuracy'])\n",
    "conv_model.summary()"
   ]
  },
  {
   "cell_type": "markdown",
   "id": "e4f7ac11",
   "metadata": {},
   "source": [
    "### Training The Model"
   ]
  },
  {
   "cell_type": "code",
   "execution_count": 30,
   "id": "735dbe98",
   "metadata": {},
   "outputs": [
    {
     "name": "stdout",
     "output_type": "stream",
     "text": [
      "Epoch 1/100\n",
      "10/10 [==============================] - 2s 40ms/step - loss: 1.6008 - accuracy: 0.1500 - val_loss: 1.3793 - val_accuracy: 0.5400\n",
      "Epoch 2/100\n",
      "10/10 [==============================] - 0s 15ms/step - loss: 1.2166 - accuracy: 0.4817 - val_loss: 0.9965 - val_accuracy: 0.4600\n",
      "Epoch 3/100\n",
      "10/10 [==============================] - 0s 15ms/step - loss: 0.8775 - accuracy: 0.4900 - val_loss: 0.7702 - val_accuracy: 0.4667\n",
      "Epoch 4/100\n",
      "10/10 [==============================] - 0s 15ms/step - loss: 0.7343 - accuracy: 0.5150 - val_loss: 0.6898 - val_accuracy: 0.5733\n",
      "Epoch 5/100\n",
      "10/10 [==============================] - 0s 15ms/step - loss: 0.6980 - accuracy: 0.5100 - val_loss: 0.6839 - val_accuracy: 0.5933\n",
      "Epoch 6/100\n",
      "10/10 [==============================] - 0s 15ms/step - loss: 0.6875 - accuracy: 0.5633 - val_loss: 0.6690 - val_accuracy: 0.6600\n",
      "Epoch 7/100\n",
      "10/10 [==============================] - 0s 16ms/step - loss: 0.6777 - accuracy: 0.5933 - val_loss: 0.6661 - val_accuracy: 0.6400\n",
      "Epoch 8/100\n",
      "10/10 [==============================] - 0s 16ms/step - loss: 0.6698 - accuracy: 0.6167 - val_loss: 0.6578 - val_accuracy: 0.7000\n",
      "Epoch 9/100\n",
      "10/10 [==============================] - 0s 15ms/step - loss: 0.6605 - accuracy: 0.6500 - val_loss: 0.6521 - val_accuracy: 0.7267\n",
      "Epoch 10/100\n",
      "10/10 [==============================] - 0s 16ms/step - loss: 0.6523 - accuracy: 0.6700 - val_loss: 0.6465 - val_accuracy: 0.7333\n",
      "Epoch 11/100\n",
      "10/10 [==============================] - 0s 16ms/step - loss: 0.6433 - accuracy: 0.6917 - val_loss: 0.6395 - val_accuracy: 0.7533\n",
      "Epoch 12/100\n",
      "10/10 [==============================] - 0s 18ms/step - loss: 0.6338 - accuracy: 0.7167 - val_loss: 0.6337 - val_accuracy: 0.7467\n",
      "Epoch 13/100\n",
      "10/10 [==============================] - 0s 15ms/step - loss: 0.6240 - accuracy: 0.7383 - val_loss: 0.6269 - val_accuracy: 0.7467\n",
      "Epoch 14/100\n",
      "10/10 [==============================] - 0s 16ms/step - loss: 0.6118 - accuracy: 0.7533 - val_loss: 0.6195 - val_accuracy: 0.7600\n",
      "Epoch 15/100\n",
      "10/10 [==============================] - 0s 16ms/step - loss: 0.6010 - accuracy: 0.7483 - val_loss: 0.6141 - val_accuracy: 0.7467\n",
      "Epoch 16/100\n",
      "10/10 [==============================] - 0s 15ms/step - loss: 0.5890 - accuracy: 0.7483 - val_loss: 0.6054 - val_accuracy: 0.7533\n",
      "Epoch 17/100\n",
      "10/10 [==============================] - 0s 17ms/step - loss: 0.5774 - accuracy: 0.7617 - val_loss: 0.5991 - val_accuracy: 0.7600\n",
      "Epoch 18/100\n",
      "10/10 [==============================] - 0s 15ms/step - loss: 0.5655 - accuracy: 0.7717 - val_loss: 0.5939 - val_accuracy: 0.7600\n",
      "Epoch 19/100\n",
      "10/10 [==============================] - 0s 15ms/step - loss: 0.5542 - accuracy: 0.7867 - val_loss: 0.5881 - val_accuracy: 0.7533\n",
      "Epoch 20/100\n",
      "10/10 [==============================] - 0s 16ms/step - loss: 0.5428 - accuracy: 0.7917 - val_loss: 0.5830 - val_accuracy: 0.7467\n",
      "Epoch 21/100\n",
      "10/10 [==============================] - 0s 16ms/step - loss: 0.5313 - accuracy: 0.8000 - val_loss: 0.5778 - val_accuracy: 0.7467\n",
      "Epoch 22/100\n",
      "10/10 [==============================] - 0s 17ms/step - loss: 0.5194 - accuracy: 0.8067 - val_loss: 0.5724 - val_accuracy: 0.7533\n",
      "Epoch 23/100\n",
      "10/10 [==============================] - 0s 17ms/step - loss: 0.5072 - accuracy: 0.8250 - val_loss: 0.5671 - val_accuracy: 0.7533\n",
      "Epoch 24/100\n",
      "10/10 [==============================] - 0s 17ms/step - loss: 0.4949 - accuracy: 0.8267 - val_loss: 0.5621 - val_accuracy: 0.7467\n",
      "Epoch 25/100\n",
      "10/10 [==============================] - 0s 18ms/step - loss: 0.4835 - accuracy: 0.8283 - val_loss: 0.5571 - val_accuracy: 0.7667\n",
      "Epoch 26/100\n",
      "10/10 [==============================] - 0s 17ms/step - loss: 0.4726 - accuracy: 0.8350 - val_loss: 0.5504 - val_accuracy: 0.7800\n",
      "Epoch 27/100\n",
      "10/10 [==============================] - 0s 17ms/step - loss: 0.4615 - accuracy: 0.8500 - val_loss: 0.5440 - val_accuracy: 0.7800\n",
      "Epoch 28/100\n",
      "10/10 [==============================] - 0s 17ms/step - loss: 0.4509 - accuracy: 0.8467 - val_loss: 0.5369 - val_accuracy: 0.7800\n",
      "Epoch 29/100\n",
      "10/10 [==============================] - 0s 17ms/step - loss: 0.4407 - accuracy: 0.8500 - val_loss: 0.5303 - val_accuracy: 0.7800\n",
      "Epoch 30/100\n",
      "10/10 [==============================] - 0s 17ms/step - loss: 0.4308 - accuracy: 0.8533 - val_loss: 0.5240 - val_accuracy: 0.7667\n",
      "Epoch 31/100\n",
      "10/10 [==============================] - 0s 16ms/step - loss: 0.4213 - accuracy: 0.8617 - val_loss: 0.5163 - val_accuracy: 0.7933\n",
      "Epoch 32/100\n",
      "10/10 [==============================] - 0s 16ms/step - loss: 0.4123 - accuracy: 0.8733 - val_loss: 0.5089 - val_accuracy: 0.8067\n",
      "Epoch 33/100\n",
      "10/10 [==============================] - 0s 16ms/step - loss: 0.4038 - accuracy: 0.8817 - val_loss: 0.5017 - val_accuracy: 0.8000\n",
      "Epoch 34/100\n",
      "10/10 [==============================] - 0s 17ms/step - loss: 0.3955 - accuracy: 0.8883 - val_loss: 0.4946 - val_accuracy: 0.8000\n",
      "Epoch 35/100\n",
      "10/10 [==============================] - 0s 17ms/step - loss: 0.3875 - accuracy: 0.8917 - val_loss: 0.4881 - val_accuracy: 0.8000\n",
      "Epoch 36/100\n",
      "10/10 [==============================] - 0s 16ms/step - loss: 0.3800 - accuracy: 0.8933 - val_loss: 0.4812 - val_accuracy: 0.8133\n",
      "Epoch 37/100\n",
      "10/10 [==============================] - 0s 16ms/step - loss: 0.3726 - accuracy: 0.8950 - val_loss: 0.4739 - val_accuracy: 0.8133\n",
      "Epoch 38/100\n",
      "10/10 [==============================] - 0s 19ms/step - loss: 0.3652 - accuracy: 0.8950 - val_loss: 0.4666 - val_accuracy: 0.8200\n",
      "Epoch 39/100\n",
      "10/10 [==============================] - 0s 16ms/step - loss: 0.3582 - accuracy: 0.8983 - val_loss: 0.4594 - val_accuracy: 0.8267\n",
      "Epoch 40/100\n",
      "10/10 [==============================] - 0s 16ms/step - loss: 0.3514 - accuracy: 0.9017 - val_loss: 0.4531 - val_accuracy: 0.8267\n",
      "Epoch 41/100\n",
      "10/10 [==============================] - 0s 16ms/step - loss: 0.3446 - accuracy: 0.9017 - val_loss: 0.4468 - val_accuracy: 0.8333\n",
      "Epoch 42/100\n",
      "10/10 [==============================] - 0s 16ms/step - loss: 0.3378 - accuracy: 0.8950 - val_loss: 0.4404 - val_accuracy: 0.8400\n",
      "Epoch 43/100\n",
      "10/10 [==============================] - 0s 16ms/step - loss: 0.3313 - accuracy: 0.8967 - val_loss: 0.4339 - val_accuracy: 0.8400\n",
      "Epoch 44/100\n",
      "10/10 [==============================] - 0s 16ms/step - loss: 0.3248 - accuracy: 0.8983 - val_loss: 0.4277 - val_accuracy: 0.8333\n",
      "Epoch 45/100\n",
      "10/10 [==============================] - 0s 17ms/step - loss: 0.3184 - accuracy: 0.8983 - val_loss: 0.4205 - val_accuracy: 0.8400\n",
      "Epoch 46/100\n",
      "10/10 [==============================] - 0s 16ms/step - loss: 0.3120 - accuracy: 0.8983 - val_loss: 0.4138 - val_accuracy: 0.8400\n",
      "Epoch 47/100\n",
      "10/10 [==============================] - 0s 17ms/step - loss: 0.3056 - accuracy: 0.8967 - val_loss: 0.4073 - val_accuracy: 0.8400\n",
      "Epoch 48/100\n",
      "10/10 [==============================] - 0s 16ms/step - loss: 0.2991 - accuracy: 0.8983 - val_loss: 0.4000 - val_accuracy: 0.8467\n",
      "Epoch 49/100\n",
      "10/10 [==============================] - 0s 16ms/step - loss: 0.2925 - accuracy: 0.8983 - val_loss: 0.3923 - val_accuracy: 0.8600\n",
      "Epoch 50/100\n",
      "10/10 [==============================] - 0s 16ms/step - loss: 0.2869 - accuracy: 0.9000 - val_loss: 0.3855 - val_accuracy: 0.8667\n",
      "Epoch 51/100\n",
      "10/10 [==============================] - 0s 19ms/step - loss: 0.2811 - accuracy: 0.9017 - val_loss: 0.3799 - val_accuracy: 0.8667\n",
      "Epoch 52/100\n",
      "10/10 [==============================] - 0s 19ms/step - loss: 0.2756 - accuracy: 0.9000 - val_loss: 0.3747 - val_accuracy: 0.8600\n",
      "Epoch 53/100\n",
      "10/10 [==============================] - 0s 17ms/step - loss: 0.2701 - accuracy: 0.9017 - val_loss: 0.3696 - val_accuracy: 0.8600\n",
      "Epoch 54/100\n",
      "10/10 [==============================] - 0s 17ms/step - loss: 0.2651 - accuracy: 0.9050 - val_loss: 0.3649 - val_accuracy: 0.8600\n",
      "Epoch 55/100\n",
      "10/10 [==============================] - 0s 18ms/step - loss: 0.2601 - accuracy: 0.9117 - val_loss: 0.3610 - val_accuracy: 0.8533\n",
      "Epoch 56/100\n",
      "10/10 [==============================] - 0s 17ms/step - loss: 0.2554 - accuracy: 0.9200 - val_loss: 0.3570 - val_accuracy: 0.8533\n",
      "Epoch 57/100\n",
      "10/10 [==============================] - 0s 19ms/step - loss: 0.2506 - accuracy: 0.9217 - val_loss: 0.3530 - val_accuracy: 0.8733\n",
      "Epoch 58/100\n"
     ]
    },
    {
     "name": "stdout",
     "output_type": "stream",
     "text": [
      "10/10 [==============================] - 0s 18ms/step - loss: 0.2460 - accuracy: 0.9217 - val_loss: 0.3488 - val_accuracy: 0.8800\n",
      "Epoch 59/100\n",
      "10/10 [==============================] - 0s 21ms/step - loss: 0.2415 - accuracy: 0.9233 - val_loss: 0.3455 - val_accuracy: 0.8867\n",
      "Epoch 60/100\n",
      "10/10 [==============================] - 0s 17ms/step - loss: 0.2370 - accuracy: 0.9283 - val_loss: 0.3429 - val_accuracy: 0.8867\n",
      "Epoch 61/100\n",
      "10/10 [==============================] - 0s 17ms/step - loss: 0.2324 - accuracy: 0.9300 - val_loss: 0.3397 - val_accuracy: 0.8867\n",
      "Epoch 62/100\n",
      "10/10 [==============================] - 0s 16ms/step - loss: 0.2274 - accuracy: 0.9300 - val_loss: 0.3363 - val_accuracy: 0.8867\n",
      "Epoch 63/100\n",
      "10/10 [==============================] - 0s 16ms/step - loss: 0.2227 - accuracy: 0.9333 - val_loss: 0.3313 - val_accuracy: 0.8867\n",
      "Epoch 64/100\n",
      "10/10 [==============================] - 0s 17ms/step - loss: 0.2178 - accuracy: 0.9317 - val_loss: 0.3250 - val_accuracy: 0.8933\n",
      "Epoch 65/100\n",
      "10/10 [==============================] - 0s 18ms/step - loss: 0.2132 - accuracy: 0.9317 - val_loss: 0.3191 - val_accuracy: 0.8933\n",
      "Epoch 66/100\n",
      "10/10 [==============================] - 0s 17ms/step - loss: 0.2088 - accuracy: 0.9383 - val_loss: 0.3155 - val_accuracy: 0.8933\n",
      "Epoch 67/100\n",
      "10/10 [==============================] - 0s 16ms/step - loss: 0.2047 - accuracy: 0.9367 - val_loss: 0.3109 - val_accuracy: 0.8933\n",
      "Epoch 68/100\n",
      "10/10 [==============================] - 0s 17ms/step - loss: 0.2008 - accuracy: 0.9367 - val_loss: 0.3054 - val_accuracy: 0.9000\n",
      "Epoch 69/100\n",
      "10/10 [==============================] - 0s 18ms/step - loss: 0.1973 - accuracy: 0.9400 - val_loss: 0.3013 - val_accuracy: 0.9000\n",
      "Epoch 70/100\n",
      "10/10 [==============================] - 0s 17ms/step - loss: 0.1939 - accuracy: 0.9400 - val_loss: 0.2970 - val_accuracy: 0.9000\n",
      "Epoch 71/100\n",
      "10/10 [==============================] - 0s 18ms/step - loss: 0.1907 - accuracy: 0.9417 - val_loss: 0.2933 - val_accuracy: 0.9000\n",
      "Epoch 72/100\n",
      "10/10 [==============================] - 0s 17ms/step - loss: 0.1877 - accuracy: 0.9433 - val_loss: 0.2894 - val_accuracy: 0.9000\n",
      "Epoch 73/100\n",
      "10/10 [==============================] - 0s 19ms/step - loss: 0.1848 - accuracy: 0.9433 - val_loss: 0.2865 - val_accuracy: 0.9000\n",
      "Epoch 74/100\n",
      "10/10 [==============================] - 0s 17ms/step - loss: 0.1820 - accuracy: 0.9450 - val_loss: 0.2836 - val_accuracy: 0.9000\n",
      "Epoch 75/100\n",
      "10/10 [==============================] - 0s 17ms/step - loss: 0.1792 - accuracy: 0.9467 - val_loss: 0.2800 - val_accuracy: 0.8933\n",
      "Epoch 76/100\n",
      "10/10 [==============================] - 0s 17ms/step - loss: 0.1766 - accuracy: 0.9467 - val_loss: 0.2759 - val_accuracy: 0.8933\n",
      "Epoch 77/100\n",
      "10/10 [==============================] - 0s 18ms/step - loss: 0.1740 - accuracy: 0.9467 - val_loss: 0.2729 - val_accuracy: 0.8933\n",
      "Epoch 78/100\n",
      "10/10 [==============================] - 0s 18ms/step - loss: 0.1715 - accuracy: 0.9467 - val_loss: 0.2698 - val_accuracy: 0.9000\n",
      "Epoch 79/100\n",
      "10/10 [==============================] - 0s 17ms/step - loss: 0.1691 - accuracy: 0.9467 - val_loss: 0.2669 - val_accuracy: 0.9000\n",
      "Epoch 80/100\n",
      "10/10 [==============================] - 0s 17ms/step - loss: 0.1668 - accuracy: 0.9483 - val_loss: 0.2642 - val_accuracy: 0.9000\n",
      "Epoch 81/100\n",
      "10/10 [==============================] - 0s 18ms/step - loss: 0.1647 - accuracy: 0.9483 - val_loss: 0.2620 - val_accuracy: 0.9000\n",
      "Epoch 82/100\n",
      "10/10 [==============================] - 0s 17ms/step - loss: 0.1626 - accuracy: 0.9483 - val_loss: 0.2597 - val_accuracy: 0.9000\n",
      "Epoch 83/100\n",
      "10/10 [==============================] - 0s 17ms/step - loss: 0.1606 - accuracy: 0.9500 - val_loss: 0.2576 - val_accuracy: 0.9000\n",
      "Epoch 84/100\n",
      "10/10 [==============================] - 0s 17ms/step - loss: 0.1587 - accuracy: 0.9500 - val_loss: 0.2563 - val_accuracy: 0.9000\n",
      "Epoch 85/100\n",
      "10/10 [==============================] - 0s 16ms/step - loss: 0.1568 - accuracy: 0.9517 - val_loss: 0.2542 - val_accuracy: 0.9000\n",
      "Epoch 86/100\n",
      "10/10 [==============================] - 0s 17ms/step - loss: 0.1549 - accuracy: 0.9517 - val_loss: 0.2518 - val_accuracy: 0.9000\n",
      "Epoch 87/100\n",
      "10/10 [==============================] - 0s 17ms/step - loss: 0.1531 - accuracy: 0.9517 - val_loss: 0.2498 - val_accuracy: 0.9000\n",
      "Epoch 88/100\n",
      "10/10 [==============================] - 0s 18ms/step - loss: 0.1513 - accuracy: 0.9517 - val_loss: 0.2486 - val_accuracy: 0.9000\n",
      "Epoch 89/100\n",
      "10/10 [==============================] - 0s 18ms/step - loss: 0.1496 - accuracy: 0.9517 - val_loss: 0.2461 - val_accuracy: 0.9000\n",
      "Epoch 90/100\n",
      "10/10 [==============================] - 0s 17ms/step - loss: 0.1477 - accuracy: 0.9517 - val_loss: 0.2446 - val_accuracy: 0.9000\n",
      "Epoch 91/100\n",
      "10/10 [==============================] - 0s 17ms/step - loss: 0.1460 - accuracy: 0.9517 - val_loss: 0.2428 - val_accuracy: 0.9000\n",
      "Epoch 92/100\n",
      "10/10 [==============================] - 0s 17ms/step - loss: 0.1441 - accuracy: 0.9517 - val_loss: 0.2404 - val_accuracy: 0.9000\n",
      "Epoch 93/100\n",
      "10/10 [==============================] - 0s 18ms/step - loss: 0.1427 - accuracy: 0.9517 - val_loss: 0.2386 - val_accuracy: 0.9000\n",
      "Epoch 94/100\n",
      "10/10 [==============================] - 0s 17ms/step - loss: 0.1408 - accuracy: 0.9517 - val_loss: 0.2363 - val_accuracy: 0.9000\n",
      "Epoch 95/100\n",
      "10/10 [==============================] - 0s 17ms/step - loss: 0.1394 - accuracy: 0.9517 - val_loss: 0.2349 - val_accuracy: 0.9000\n",
      "Epoch 96/100\n",
      "10/10 [==============================] - 0s 17ms/step - loss: 0.1378 - accuracy: 0.9533 - val_loss: 0.2321 - val_accuracy: 0.9067\n",
      "Epoch 97/100\n",
      "10/10 [==============================] - 0s 18ms/step - loss: 0.1362 - accuracy: 0.9517 - val_loss: 0.2310 - val_accuracy: 0.9067\n",
      "Epoch 98/100\n",
      "10/10 [==============================] - 0s 17ms/step - loss: 0.1347 - accuracy: 0.9517 - val_loss: 0.2297 - val_accuracy: 0.9067\n",
      "Epoch 99/100\n",
      "10/10 [==============================] - 0s 17ms/step - loss: 0.1333 - accuracy: 0.9517 - val_loss: 0.2279 - val_accuracy: 0.9067\n",
      "Epoch 100/100\n",
      "10/10 [==============================] - 0s 18ms/step - loss: 0.1318 - accuracy: 0.9567 - val_loss: 0.2256 - val_accuracy: 0.9067\n"
     ]
    }
   ],
   "source": [
    "train_dataset = tf.data.Dataset.from_tensor_slices((X_train, Y_train)).batch(64)\n",
    "test_dataset = tf.data.Dataset.from_tensor_slices((X_test, Y_test)).batch(64)\n",
    "history = conv_model.fit(train_dataset, epochs=100, validation_data=test_dataset)"
   ]
  },
  {
   "cell_type": "markdown",
   "id": "93914a0d",
   "metadata": {},
   "source": [
    "### History Object"
   ]
  },
  {
   "cell_type": "markdown",
   "id": "10edad27",
   "metadata": {},
   "source": [
    "The history object is an output of the .fit() operation, and provides a record of all the loss and metric values in memory. It's stored as a dictionary that you can retrieve at history.history:"
   ]
  },
  {
   "cell_type": "code",
   "execution_count": 31,
   "id": "8594614d",
   "metadata": {},
   "outputs": [
    {
     "data": {
      "text/plain": [
       "{'loss': [1.6007784605026245,\n",
       "  1.2165532112121582,\n",
       "  0.8775290846824646,\n",
       "  0.7342517375946045,\n",
       "  0.697983980178833,\n",
       "  0.6874667406082153,\n",
       "  0.6777241230010986,\n",
       "  0.6698486804962158,\n",
       "  0.6604722738265991,\n",
       "  0.652273416519165,\n",
       "  0.643261194229126,\n",
       "  0.6338393688201904,\n",
       "  0.6240355968475342,\n",
       "  0.6118415594100952,\n",
       "  0.6010233759880066,\n",
       "  0.5889891386032104,\n",
       "  0.5773900747299194,\n",
       "  0.5654776096343994,\n",
       "  0.5542179942131042,\n",
       "  0.5427893996238708,\n",
       "  0.5312861204147339,\n",
       "  0.5193691253662109,\n",
       "  0.5072238445281982,\n",
       "  0.49493688344955444,\n",
       "  0.48353058099746704,\n",
       "  0.4725573658943176,\n",
       "  0.46150949597358704,\n",
       "  0.4509468972682953,\n",
       "  0.44068360328674316,\n",
       "  0.4308251440525055,\n",
       "  0.42128849029541016,\n",
       "  0.4123472273349762,\n",
       "  0.4038394093513489,\n",
       "  0.3955124616622925,\n",
       "  0.3875492215156555,\n",
       "  0.37996113300323486,\n",
       "  0.3725704848766327,\n",
       "  0.36524146795272827,\n",
       "  0.3582335412502289,\n",
       "  0.35136330127716064,\n",
       "  0.344636470079422,\n",
       "  0.337816059589386,\n",
       "  0.3312531113624573,\n",
       "  0.32480373978614807,\n",
       "  0.31839829683303833,\n",
       "  0.3120288550853729,\n",
       "  0.30560389161109924,\n",
       "  0.2990763783454895,\n",
       "  0.2925266623497009,\n",
       "  0.2868890166282654,\n",
       "  0.2811283767223358,\n",
       "  0.27556678652763367,\n",
       "  0.2701241075992584,\n",
       "  0.26508408784866333,\n",
       "  0.260051429271698,\n",
       "  0.25537440180778503,\n",
       "  0.2506413161754608,\n",
       "  0.2460053265094757,\n",
       "  0.24145209789276123,\n",
       "  0.2369876652956009,\n",
       "  0.23243439197540283,\n",
       "  0.22742055356502533,\n",
       "  0.2226836085319519,\n",
       "  0.2177848368883133,\n",
       "  0.2131798267364502,\n",
       "  0.2088312953710556,\n",
       "  0.20469526946544647,\n",
       "  0.20083536207675934,\n",
       "  0.19726869463920593,\n",
       "  0.193874329328537,\n",
       "  0.19069162011146545,\n",
       "  0.18765059113502502,\n",
       "  0.18478673696517944,\n",
       "  0.18196730315685272,\n",
       "  0.17924030125141144,\n",
       "  0.1765977293252945,\n",
       "  0.17400996387004852,\n",
       "  0.1715145707130432,\n",
       "  0.16913734376430511,\n",
       "  0.16683746874332428,\n",
       "  0.16467683017253876,\n",
       "  0.16261722147464752,\n",
       "  0.16061830520629883,\n",
       "  0.15871433913707733,\n",
       "  0.1568092554807663,\n",
       "  0.15490666031837463,\n",
       "  0.15311793982982635,\n",
       "  0.15134252607822418,\n",
       "  0.1495596468448639,\n",
       "  0.14765390753746033,\n",
       "  0.14596647024154663,\n",
       "  0.1440972238779068,\n",
       "  0.14267538487911224,\n",
       "  0.14082901179790497,\n",
       "  0.13939672708511353,\n",
       "  0.13775412738323212,\n",
       "  0.13624516129493713,\n",
       "  0.13474208116531372,\n",
       "  0.13328492641448975,\n",
       "  0.13184835016727448],\n",
       " 'accuracy': [0.15000000596046448,\n",
       "  0.4816666543483734,\n",
       "  0.49000000953674316,\n",
       "  0.5149999856948853,\n",
       "  0.5099999904632568,\n",
       "  0.5633333325386047,\n",
       "  0.5933333039283752,\n",
       "  0.6166666746139526,\n",
       "  0.6499999761581421,\n",
       "  0.6700000166893005,\n",
       "  0.6916666626930237,\n",
       "  0.7166666388511658,\n",
       "  0.7383333444595337,\n",
       "  0.753333330154419,\n",
       "  0.7483333349227905,\n",
       "  0.7483333349227905,\n",
       "  0.7616666555404663,\n",
       "  0.7716666460037231,\n",
       "  0.7866666913032532,\n",
       "  0.7916666865348816,\n",
       "  0.800000011920929,\n",
       "  0.8066666722297668,\n",
       "  0.824999988079071,\n",
       "  0.8266666531562805,\n",
       "  0.82833331823349,\n",
       "  0.8349999785423279,\n",
       "  0.8500000238418579,\n",
       "  0.846666693687439,\n",
       "  0.8500000238418579,\n",
       "  0.8533333539962769,\n",
       "  0.8616666793823242,\n",
       "  0.8733333349227905,\n",
       "  0.8816666603088379,\n",
       "  0.8883333206176758,\n",
       "  0.8916666507720947,\n",
       "  0.8933333158493042,\n",
       "  0.8949999809265137,\n",
       "  0.8949999809265137,\n",
       "  0.8983333110809326,\n",
       "  0.9016666412353516,\n",
       "  0.9016666412353516,\n",
       "  0.8949999809265137,\n",
       "  0.8966666460037231,\n",
       "  0.8983333110809326,\n",
       "  0.8983333110809326,\n",
       "  0.8983333110809326,\n",
       "  0.8966666460037231,\n",
       "  0.8983333110809326,\n",
       "  0.8983333110809326,\n",
       "  0.8999999761581421,\n",
       "  0.9016666412353516,\n",
       "  0.8999999761581421,\n",
       "  0.9016666412353516,\n",
       "  0.9049999713897705,\n",
       "  0.9116666913032532,\n",
       "  0.9200000166893005,\n",
       "  0.92166668176651,\n",
       "  0.92166668176651,\n",
       "  0.9233333468437195,\n",
       "  0.9283333420753479,\n",
       "  0.9300000071525574,\n",
       "  0.9300000071525574,\n",
       "  0.9333333373069763,\n",
       "  0.9316666722297668,\n",
       "  0.9316666722297668,\n",
       "  0.9383333325386047,\n",
       "  0.9366666674613953,\n",
       "  0.9366666674613953,\n",
       "  0.9399999976158142,\n",
       "  0.9399999976158142,\n",
       "  0.9416666626930237,\n",
       "  0.9433333277702332,\n",
       "  0.9433333277702332,\n",
       "  0.9449999928474426,\n",
       "  0.9466666579246521,\n",
       "  0.9466666579246521,\n",
       "  0.9466666579246521,\n",
       "  0.9466666579246521,\n",
       "  0.9466666579246521,\n",
       "  0.9483333230018616,\n",
       "  0.9483333230018616,\n",
       "  0.9483333230018616,\n",
       "  0.949999988079071,\n",
       "  0.949999988079071,\n",
       "  0.9516666531562805,\n",
       "  0.9516666531562805,\n",
       "  0.9516666531562805,\n",
       "  0.9516666531562805,\n",
       "  0.9516666531562805,\n",
       "  0.9516666531562805,\n",
       "  0.9516666531562805,\n",
       "  0.9516666531562805,\n",
       "  0.9516666531562805,\n",
       "  0.9516666531562805,\n",
       "  0.9516666531562805,\n",
       "  0.95333331823349,\n",
       "  0.9516666531562805,\n",
       "  0.9516666531562805,\n",
       "  0.9516666531562805,\n",
       "  0.9566666483879089],\n",
       " 'val_loss': [1.3793171644210815,\n",
       "  0.9965196847915649,\n",
       "  0.7701972126960754,\n",
       "  0.6897609233856201,\n",
       "  0.6839368939399719,\n",
       "  0.6690176129341125,\n",
       "  0.666093111038208,\n",
       "  0.6578404903411865,\n",
       "  0.6520771980285645,\n",
       "  0.6465412378311157,\n",
       "  0.6395119428634644,\n",
       "  0.6337313055992126,\n",
       "  0.6268520355224609,\n",
       "  0.6195150017738342,\n",
       "  0.614130437374115,\n",
       "  0.6053844094276428,\n",
       "  0.5990612506866455,\n",
       "  0.593860924243927,\n",
       "  0.5880761742591858,\n",
       "  0.5830367803573608,\n",
       "  0.5777608156204224,\n",
       "  0.5723827481269836,\n",
       "  0.5671436190605164,\n",
       "  0.5620783567428589,\n",
       "  0.5570846796035767,\n",
       "  0.5503646731376648,\n",
       "  0.5439767837524414,\n",
       "  0.5369085073471069,\n",
       "  0.5302854180335999,\n",
       "  0.5240379571914673,\n",
       "  0.5163027048110962,\n",
       "  0.5088701248168945,\n",
       "  0.5016610622406006,\n",
       "  0.494625449180603,\n",
       "  0.4880616366863251,\n",
       "  0.4812380373477936,\n",
       "  0.47392338514328003,\n",
       "  0.46656158566474915,\n",
       "  0.45943042635917664,\n",
       "  0.453058123588562,\n",
       "  0.4467851221561432,\n",
       "  0.4404347836971283,\n",
       "  0.4339185059070587,\n",
       "  0.42770254611968994,\n",
       "  0.42054927349090576,\n",
       "  0.41379180550575256,\n",
       "  0.4072677493095398,\n",
       "  0.4000054895877838,\n",
       "  0.3923129439353943,\n",
       "  0.38552042841911316,\n",
       "  0.3798914849758148,\n",
       "  0.37468239665031433,\n",
       "  0.369616836309433,\n",
       "  0.3649137020111084,\n",
       "  0.36096426844596863,\n",
       "  0.3569726049900055,\n",
       "  0.3529658615589142,\n",
       "  0.348839670419693,\n",
       "  0.3454829156398773,\n",
       "  0.34286046028137207,\n",
       "  0.33965596556663513,\n",
       "  0.3363019526004791,\n",
       "  0.33128514885902405,\n",
       "  0.3250419497489929,\n",
       "  0.3190942704677582,\n",
       "  0.3154873549938202,\n",
       "  0.3108994960784912,\n",
       "  0.3054269850254059,\n",
       "  0.3012518584728241,\n",
       "  0.2969765365123749,\n",
       "  0.29326438903808594,\n",
       "  0.28938233852386475,\n",
       "  0.286462664604187,\n",
       "  0.2835882902145386,\n",
       "  0.2799566686153412,\n",
       "  0.2759251594543457,\n",
       "  0.2728855311870575,\n",
       "  0.2697902023792267,\n",
       "  0.2669249475002289,\n",
       "  0.2641878128051758,\n",
       "  0.2620466649532318,\n",
       "  0.2597206234931946,\n",
       "  0.25764989852905273,\n",
       "  0.2563209533691406,\n",
       "  0.25417542457580566,\n",
       "  0.25184082984924316,\n",
       "  0.24983380734920502,\n",
       "  0.24860438704490662,\n",
       "  0.24607686698436737,\n",
       "  0.2445867359638214,\n",
       "  0.2428223192691803,\n",
       "  0.2403719127178192,\n",
       "  0.2386075109243393,\n",
       "  0.23628047108650208,\n",
       "  0.23486274480819702,\n",
       "  0.23208175599575043,\n",
       "  0.2309861034154892,\n",
       "  0.2297460436820984,\n",
       "  0.22793126106262207,\n",
       "  0.22562937438488007],\n",
       " 'val_accuracy': [0.5400000214576721,\n",
       "  0.46000000834465027,\n",
       "  0.46666666865348816,\n",
       "  0.5733333230018616,\n",
       "  0.5933333039283752,\n",
       "  0.6600000262260437,\n",
       "  0.6399999856948853,\n",
       "  0.699999988079071,\n",
       "  0.7266666889190674,\n",
       "  0.7333333492279053,\n",
       "  0.753333330154419,\n",
       "  0.746666669845581,\n",
       "  0.746666669845581,\n",
       "  0.7599999904632568,\n",
       "  0.746666669845581,\n",
       "  0.753333330154419,\n",
       "  0.7599999904632568,\n",
       "  0.7599999904632568,\n",
       "  0.753333330154419,\n",
       "  0.746666669845581,\n",
       "  0.746666669845581,\n",
       "  0.753333330154419,\n",
       "  0.753333330154419,\n",
       "  0.746666669845581,\n",
       "  0.7666666507720947,\n",
       "  0.7799999713897705,\n",
       "  0.7799999713897705,\n",
       "  0.7799999713897705,\n",
       "  0.7799999713897705,\n",
       "  0.7666666507720947,\n",
       "  0.7933333516120911,\n",
       "  0.8066666722297668,\n",
       "  0.800000011920929,\n",
       "  0.800000011920929,\n",
       "  0.800000011920929,\n",
       "  0.8133333325386047,\n",
       "  0.8133333325386047,\n",
       "  0.8199999928474426,\n",
       "  0.8266666531562805,\n",
       "  0.8266666531562805,\n",
       "  0.8333333134651184,\n",
       "  0.8399999737739563,\n",
       "  0.8399999737739563,\n",
       "  0.8333333134651184,\n",
       "  0.8399999737739563,\n",
       "  0.8399999737739563,\n",
       "  0.8399999737739563,\n",
       "  0.846666693687439,\n",
       "  0.8600000143051147,\n",
       "  0.8666666746139526,\n",
       "  0.8666666746139526,\n",
       "  0.8600000143051147,\n",
       "  0.8600000143051147,\n",
       "  0.8600000143051147,\n",
       "  0.8533333539962769,\n",
       "  0.8533333539962769,\n",
       "  0.8733333349227905,\n",
       "  0.8799999952316284,\n",
       "  0.8866666555404663,\n",
       "  0.8866666555404663,\n",
       "  0.8866666555404663,\n",
       "  0.8866666555404663,\n",
       "  0.8866666555404663,\n",
       "  0.8933333158493042,\n",
       "  0.8933333158493042,\n",
       "  0.8933333158493042,\n",
       "  0.8933333158493042,\n",
       "  0.8999999761581421,\n",
       "  0.8999999761581421,\n",
       "  0.8999999761581421,\n",
       "  0.8999999761581421,\n",
       "  0.8999999761581421,\n",
       "  0.8999999761581421,\n",
       "  0.8999999761581421,\n",
       "  0.8933333158493042,\n",
       "  0.8933333158493042,\n",
       "  0.8933333158493042,\n",
       "  0.8999999761581421,\n",
       "  0.8999999761581421,\n",
       "  0.8999999761581421,\n",
       "  0.8999999761581421,\n",
       "  0.8999999761581421,\n",
       "  0.8999999761581421,\n",
       "  0.8999999761581421,\n",
       "  0.8999999761581421,\n",
       "  0.8999999761581421,\n",
       "  0.8999999761581421,\n",
       "  0.8999999761581421,\n",
       "  0.8999999761581421,\n",
       "  0.8999999761581421,\n",
       "  0.8999999761581421,\n",
       "  0.8999999761581421,\n",
       "  0.8999999761581421,\n",
       "  0.8999999761581421,\n",
       "  0.8999999761581421,\n",
       "  0.9066666960716248,\n",
       "  0.9066666960716248,\n",
       "  0.9066666960716248,\n",
       "  0.9066666960716248,\n",
       "  0.9066666960716248]}"
      ]
     },
     "execution_count": 31,
     "metadata": {},
     "output_type": "execute_result"
    }
   ],
   "source": [
    "history.history"
   ]
  },
  {
   "cell_type": "markdown",
   "id": "2498042d",
   "metadata": {},
   "source": [
    "### Visualizing The Loss And Accuracy"
   ]
  },
  {
   "cell_type": "code",
   "execution_count": 32,
   "id": "20a9eef8",
   "metadata": {},
   "outputs": [
    {
     "name": "stderr",
     "output_type": "stream",
     "text": [
      "C:\\Users\\Furkan Can\\AppData\\Roaming\\Python\\Python38\\site-packages\\pandas\\core\\frame.py:4438: SettingWithCopyWarning: \n",
      "A value is trying to be set on a copy of a slice from a DataFrame\n",
      "\n",
      "See the caveats in the documentation: https://pandas.pydata.org/pandas-docs/stable/user_guide/indexing.html#returning-a-view-versus-a-copy\n",
      "  return super().rename(\n"
     ]
    },
    {
     "data": {
      "text/plain": [
       "[Text(0.5, 0, 'Epoch'), Text(0, 0.5, 'Accuracy')]"
      ]
     },
     "execution_count": 32,
     "metadata": {},
     "output_type": "execute_result"
    },
    {
     "data": {
      "image/png": "[encoded data removed]",
      "text/plain": [
       "<Figure size 864x576 with 1 Axes>"
      ]
     },
     "metadata": {
      "needs_background": "light"
     },
     "output_type": "display_data"
    },
    {
     "data": {
      "image/png": "[encoded data removed]",
      "text/plain": [
       "<Figure size 864x576 with 1 Axes>"
      ]
     },
     "metadata": {
      "needs_background": "light"
     },
     "output_type": "display_data"
    }
   ],
   "source": [
    "# The history.history[\"loss\"] entry is a dictionary with as many values as epochs that the\n",
    "# model was trained on. \n",
    "df_loss_acc = pd.DataFrame(history.history)\n",
    "df_loss= df_loss_acc[['loss','val_loss']]\n",
    "df_loss.rename(columns={'loss':'train','val_loss':'validation'},inplace=True)\n",
    "df_acc= df_loss_acc[['accuracy','val_accuracy']]\n",
    "df_acc.rename(columns={'accuracy':'train','val_accuracy':'validation'},inplace=True)\n",
    "df_loss.plot(title='Model loss',figsize=(12,8)).set(xlabel='Epoch',ylabel='Loss')\n",
    "df_acc.plot(title='Model Accuracy',figsize=(12,8)).set(xlabel='Epoch',ylabel='Accuracy')"
   ]
  }
 ],
 "metadata": {
  "kernelspec": {
   "display_name": "Python 3 (ipykernel)",
   "language": "python",
   "name": "python3"
  },
  "language_info": {
   "codemirror_mode": {
    "name": "ipython",
    "version": 3
   },
   "file_extension": ".py",
   "mimetype": "text/x-python",
   "name": "python",
   "nbconvert_exporter": "python",
   "pygments_lexer": "ipython3",
   "version": "3.8.8"
  }
 },
 "nbformat": 4,
 "nbformat_minor": 5
}
